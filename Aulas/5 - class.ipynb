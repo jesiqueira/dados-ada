{
 "cells": [
  {
   "cell_type": "markdown",
   "metadata": {},
   "source": [
    "# Programação orientado a objetos 1"
   ]
  },
  {
   "cell_type": "code",
   "execution_count": 14,
   "metadata": {},
   "outputs": [],
   "source": [
    "# Classes\n",
    "class Pessoa:\n",
    "  def __init__(self, nome, idade, residencia):\n",
    "    self.nome = nome\n",
    "    self.idade = idade\n",
    "    self.residencia = residencia\n",
    "\n",
    "  \n",
    "  def fala(self, mensagem):\n",
    "    \"\"\"Este metodos retorna a mensagem enviado pelo usuário\"\"\"\n",
    "    print(f'{self.nome} diz, {mensagem}!')"
   ]
  },
  {
   "cell_type": "code",
   "execution_count": 13,
   "metadata": {},
   "outputs": [
    {
     "name": "stdout",
     "output_type": "stream",
     "text": [
      "Lucas diz, Ola meu amigo!\n"
     ]
    }
   ],
   "source": [
    "# Criar o objeto\n",
    "lucas = Pessoa('Lucas', 11, 'São Carlos')\n",
    "lucas.fala('Ola meu amigo')"
   ]
  },
  {
   "cell_type": "code",
   "execution_count": 25,
   "metadata": {},
   "outputs": [],
   "source": [
    "class Horario:\n",
    "  def __init__(self, hora, minuto, segundo):\n",
    "    self.h = hora\n",
    "    self.m = minuto\n",
    "    self.s = segundo\n",
    "\n",
    "  def __repr__(self):\n",
    "    return f'{self.h:02d}:{self.m:02d}:{self.s:02d}'\n",
    "  \n",
    "  def __str__(self):\n",
    "    return f'O horário é: {self.h:02d}:{self.m:02d}:{self.s:02d}'"
   ]
  },
  {
   "cell_type": "code",
   "execution_count": 26,
   "metadata": {},
   "outputs": [
    {
     "data": {
      "text/plain": [
       "18:03:05"
      ]
     },
     "execution_count": 26,
     "metadata": {},
     "output_type": "execute_result"
    }
   ],
   "source": [
    "hora = Horario(18, 3,5)\n",
    "# vars(hora)\n",
    "hora"
   ]
  },
  {
   "cell_type": "code",
   "execution_count": 27,
   "metadata": {},
   "outputs": [
    {
     "name": "stdout",
     "output_type": "stream",
     "text": [
      "O horário é: 18:03:05\n"
     ]
    }
   ],
   "source": [
    "print(hora)"
   ]
  },
  {
   "cell_type": "code",
   "execution_count": 1,
   "metadata": {},
   "outputs": [
    {
     "name": "stdout",
     "output_type": "stream",
     "text": [
      "True False\n"
     ]
    }
   ],
   "source": [
    "class A:\n",
    "    def __init__(self, x, y):\n",
    "        self.x = x\n",
    "        self.y = y \n",
    "    def __eq__(self, outro):\n",
    "        return self.x == outro.x\n",
    "\n",
    "class B:\n",
    "    def __init__(self, x, y):\n",
    "        self.x = x\n",
    "        self.y = y \n",
    "    def __eq__(self, outro):\n",
    "        return self.y == outro.y\n",
    "\n",
    "a = A(x=1, y=2)\n",
    "b = B(x=1, y=3)\n",
    "print(a==b, b==a)"
   ]
  },
  {
   "cell_type": "code",
   "execution_count": 2,
   "metadata": {},
   "outputs": [
    {
     "name": "stdout",
     "output_type": "stream",
     "text": [
      "False False\n"
     ]
    }
   ],
   "source": [
    "class Tolerancia:\n",
    "    def __init__(self, x, tol_minima=3, tol_maxima=6):\n",
    "        self.x = x\n",
    "        self.tol_minima = tol_minima\n",
    "        self.tol_maxima = tol_maxima\n",
    "    def __eq__(self, outro):\n",
    "        return abs(self.x - outro.x) <= self.tol_minima\n",
    "    def __ne__(self, outro):\n",
    "        return abs(self.x - outro.x) >= self.tol_maxima\n",
    "a = Tolerancia(x=10)\n",
    "b = Tolerancia(x=15)\n",
    "print(a==b, a!=b)"
   ]
  }
 ],
 "metadata": {
  "kernelspec": {
   "display_name": ".venv",
   "language": "python",
   "name": "python3"
  },
  "language_info": {
   "codemirror_mode": {
    "name": "ipython",
    "version": 3
   },
   "file_extension": ".py",
   "mimetype": "text/x-python",
   "name": "python",
   "nbconvert_exporter": "python",
   "pygments_lexer": "ipython3",
   "version": "3.11.2"
  }
 },
 "nbformat": 4,
 "nbformat_minor": 2
}
