{
 "cells": [
  {
   "cell_type": "markdown",
   "metadata": {},
   "source": [
    "# A função open() é usada para abrir arquivos e existentes ou criar um arquivo novo\n",
    "- r - lê um arquivo\n",
    "- w - criar um novo arquivo\n",
    "- a - abre um arquivo existente para adcionar informações ao seu final\n",
    "- \\+ ou - ao ser combinao com outros modos, permite alterações de arquivo já existente \n",
    "\n",
    "# Para garantir que o arquivo seja fechado sem nos preocupar usamos o metodo with\n",
    "- with garante que, quando o bloco de código em seu interir for executado ps recursos que foram criados (indicados após as ) serão liberados"
   ]
  },
  {
   "cell_type": "code",
   "execution_count": 7,
   "metadata": {},
   "outputs": [],
   "source": [
    "arquivo =open(\"Ola_mundo.txt\", \"w\", encoding=\"utf-8\")"
   ]
  },
  {
   "cell_type": "code",
   "execution_count": 8,
   "metadata": {},
   "outputs": [],
   "source": [
    "arquivo.write(\"Olá, mundo!\")\n",
    "arquivo.close() # fecha e salva ao arquivo"
   ]
  },
  {
   "cell_type": "code",
   "execution_count": 9,
   "metadata": {},
   "outputs": [],
   "source": [
    "with open(\"Ola_mundo.txt\", \"w\", encoding=\"utf-8\") as f:\n",
    "  f.write(\"Olá, mundo!\")"
   ]
  },
  {
   "cell_type": "code",
   "execution_count": 10,
   "metadata": {},
   "outputs": [],
   "source": [
    "with open(\"Ola_mundo.txt\", \"r+\", encoding=\"utf-8\") as f:\n",
    "  f.write(\"Olá, você perdeu tudo, kkk, o r+ apagou\")"
   ]
  },
  {
   "cell_type": "code",
   "execution_count": 11,
   "metadata": {},
   "outputs": [],
   "source": [
    "with open(\"Ola_mundo.txt\", \"a\", encoding=\"utf-8\") as f:\n",
    "  f.write(\"\\nagora escrevo no final na linha de baixo\")"
   ]
  },
  {
   "cell_type": "markdown",
   "metadata": {},
   "source": [
    "# Para leitura usamos o r - somente leitura"
   ]
  },
  {
   "cell_type": "code",
   "execution_count": 13,
   "metadata": {},
   "outputs": [],
   "source": [
    "with open(\"Ola_mundo.txt\", \"r\", encoding=\"utf-8\") as f:\n",
    "  conteudo = f.read()"
   ]
  },
  {
   "cell_type": "code",
   "execution_count": 15,
   "metadata": {},
   "outputs": [
    {
     "name": "stdout",
     "output_type": "stream",
     "text": [
      "Olá, você perdeu tudo, kkk, o r+ apagou\n",
      "agora escrevo no final na linha de baixo\n"
     ]
    }
   ],
   "source": [
    "print(conteudo)"
   ]
  },
  {
   "cell_type": "code",
   "execution_count": 17,
   "metadata": {},
   "outputs": [],
   "source": [
    "lista_de_string = conteudo.split('\\n')"
   ]
  },
  {
   "cell_type": "code",
   "execution_count": 18,
   "metadata": {},
   "outputs": [
    {
     "data": {
      "text/plain": [
       "['Olá, você perdeu tudo, kkk, o r+ apagou',\n",
       " 'agora escrevo no final na linha de baixo']"
      ]
     },
     "execution_count": 18,
     "metadata": {},
     "output_type": "execute_result"
    }
   ],
   "source": [
    "lista_de_string"
   ]
  },
  {
   "cell_type": "code",
   "execution_count": 19,
   "metadata": {},
   "outputs": [],
   "source": [
    "lista_de_numeros = [1, 2, 4, 8, 9, 10]"
   ]
  },
  {
   "cell_type": "code",
   "execution_count": 21,
   "metadata": {},
   "outputs": [],
   "source": [
    "with open(\"notas.txt\", \"w\", encoding=\"utf-8\") as f:\n",
    "  f.write(f\"{lista_de_numeros[0]}\")\n",
    "\n",
    "  for elemento in lista_de_numeros:\n",
    "    f.write(f\"\\n{elemento}\")"
   ]
  },
  {
   "cell_type": "code",
   "execution_count": 22,
   "metadata": {},
   "outputs": [],
   "source": [
    "with open(\"notas.txt\", \"r\", encoding=\"utf-8\") as f:\n",
    "  notas = f.read()"
   ]
  },
  {
   "cell_type": "code",
   "execution_count": 26,
   "metadata": {},
   "outputs": [],
   "source": [
    "notas_lidas_float =[float(elemento) for elemento in notas.split('\\n')]"
   ]
  },
  {
   "cell_type": "code",
   "execution_count": 27,
   "metadata": {},
   "outputs": [
    {
     "data": {
      "text/plain": [
       "[1.0, 1.0, 2.0, 4.0, 8.0, 9.0, 10.0]"
      ]
     },
     "execution_count": 27,
     "metadata": {},
     "output_type": "execute_result"
    }
   ],
   "source": [
    "notas_lidas_float"
   ]
  },
  {
   "cell_type": "code",
   "execution_count": 28,
   "metadata": {},
   "outputs": [
    {
     "data": {
      "text/plain": [
       "list"
      ]
     },
     "execution_count": 28,
     "metadata": {},
     "output_type": "execute_result"
    }
   ],
   "source": [
    "type(notas_lidas_float)"
   ]
  },
  {
   "cell_type": "code",
   "execution_count": 29,
   "metadata": {},
   "outputs": [
    {
     "data": {
      "text/plain": [
       "5.0"
      ]
     },
     "execution_count": 29,
     "metadata": {},
     "output_type": "execute_result"
    }
   ],
   "source": [
    "sum(notas_lidas_float) / len(notas_lidas_float)"
   ]
  },
  {
   "cell_type": "markdown",
   "metadata": {},
   "source": [
    "# arquivos csv"
   ]
  },
  {
   "cell_type": "code",
   "execution_count": 30,
   "metadata": {},
   "outputs": [],
   "source": [
    "tabela = [['aluno', 'nota 1', 'nota 2', 'presença'],\n",
    "          ['luke', 6, 7, 75],\n",
    "          ['man', 2, 5, 100]]"
   ]
  },
  {
   "cell_type": "code",
   "execution_count": 31,
   "metadata": {},
   "outputs": [
    {
     "data": {
      "text/plain": [
       "[['aluno', 'nota 1', 'nota 2', 'presença'],\n",
       " ['luke', 6, 7, 75],\n",
       " ['man', 2, 5, 100]]"
      ]
     },
     "execution_count": 31,
     "metadata": {},
     "output_type": "execute_result"
    }
   ],
   "source": [
    "tabela"
   ]
  },
  {
   "cell_type": "code",
   "execution_count": 32,
   "metadata": {},
   "outputs": [],
   "source": [
    "import csv"
   ]
  },
  {
   "cell_type": "code",
   "execution_count": 33,
   "metadata": {},
   "outputs": [],
   "source": [
    "with open('alunos_star_wars.csv', 'w', encoding='utf-8') as f:\n",
    "  csv.writer(f, delimiter=',', lineterminator='\\n').writerows(tabela)"
   ]
  },
  {
   "cell_type": "code",
   "execution_count": null,
   "metadata": {},
   "outputs": [],
   "source": [
    "with open('alunos_star_wars.csv', 'r', encoding='utf-8') as f:\n",
    "  primeira_linha = f.readline() # para verificar o separador de linhas e delimitador"
   ]
  },
  {
   "cell_type": "code",
   "execution_count": 36,
   "metadata": {},
   "outputs": [
    {
     "data": {
      "text/plain": [
       "'aluno,nota 1,nota 2,presença\\n'"
      ]
     },
     "execution_count": 36,
     "metadata": {},
     "output_type": "execute_result"
    }
   ],
   "source": [
    "primeira_linha"
   ]
  },
  {
   "cell_type": "code",
   "execution_count": 38,
   "metadata": {},
   "outputs": [],
   "source": [
    "with open('alunos_star_wars.csv', 'r', encoding='utf-8') as f:\n",
    " tabela_lida = []\n",
    " leitor = csv.reader(f,delimiter=',', lineterminator='\\n')\n",
    " for linha in leitor:\n",
    "  tabela_lida.append(linha)"
   ]
  },
  {
   "cell_type": "code",
   "execution_count": 39,
   "metadata": {},
   "outputs": [
    {
     "data": {
      "text/plain": [
       "[['aluno', 'nota 1', 'nota 2', 'presença'],\n",
       " ['luke', '6', '7', '75'],\n",
       " ['man', '2', '5', '100']]"
      ]
     },
     "execution_count": 39,
     "metadata": {},
     "output_type": "execute_result"
    }
   ],
   "source": [
    "tabela_lida"
   ]
  },
  {
   "cell_type": "code",
   "execution_count": null,
   "metadata": {},
   "outputs": [],
   "source": [
    "with open('alunos_star_wars.csv', 'r', encoding='utf-8') as f:\n",
    " leitor = csv.reader(f,delimiter=',', lineterminator='\\n')\n",
    " tabela_lida = [linha for linha in leitor]"
   ]
  },
  {
   "cell_type": "code",
   "execution_count": 41,
   "metadata": {},
   "outputs": [
    {
     "data": {
      "text/plain": [
       "[['aluno', 'nota 1', 'nota 2', 'presença'],\n",
       " ['luke', '6', '7', '75'],\n",
       " ['man', '2', '5', '100']]"
      ]
     },
     "execution_count": 41,
     "metadata": {},
     "output_type": "execute_result"
    }
   ],
   "source": [
    "tabela_lida"
   ]
  },
  {
   "cell_type": "code",
   "execution_count": 50,
   "metadata": {},
   "outputs": [],
   "source": [
    "with open('alunos_star_wars.csv', 'r', encoding='utf-8') as f:\n",
    " tabela_lida = [linha for linha in csv.reader(f,delimiter=',', lineterminator='\\n')]"
   ]
  },
  {
   "cell_type": "code",
   "execution_count": 51,
   "metadata": {},
   "outputs": [
    {
     "data": {
      "text/plain": [
       "[['aluno', 'nota 1', 'nota 2', 'presença'],\n",
       " ['luke', '6', '7', '75'],\n",
       " ['man', '2', '5', '100']]"
      ]
     },
     "execution_count": 51,
     "metadata": {},
     "output_type": "execute_result"
    }
   ],
   "source": [
    "tabela_lida"
   ]
  },
  {
   "cell_type": "code",
   "execution_count": 52,
   "metadata": {},
   "outputs": [],
   "source": [
    "lista_nome =[linha[0] for linha in tabela_lida]"
   ]
  },
  {
   "cell_type": "code",
   "execution_count": 53,
   "metadata": {},
   "outputs": [
    {
     "data": {
      "text/plain": [
       "1"
      ]
     },
     "execution_count": 53,
     "metadata": {},
     "output_type": "execute_result"
    }
   ],
   "source": [
    "lista_nome.index('luke')"
   ]
  },
  {
   "cell_type": "code",
   "execution_count": 55,
   "metadata": {},
   "outputs": [],
   "source": [
    "dados_aluno = tabela[lista_nome.index('luke')]"
   ]
  },
  {
   "cell_type": "code",
   "execution_count": 57,
   "metadata": {},
   "outputs": [],
   "source": [
    "nota1 =dados_aluno[1]\n",
    "nota2 =dados_aluno[2]"
   ]
  },
  {
   "cell_type": "code",
   "execution_count": 60,
   "metadata": {},
   "outputs": [
    {
     "data": {
      "text/plain": [
       "(6, 7)"
      ]
     },
     "execution_count": 60,
     "metadata": {},
     "output_type": "execute_result"
    }
   ],
   "source": [
    "nota1, nota2"
   ]
  },
  {
   "cell_type": "code",
   "execution_count": 64,
   "metadata": {},
   "outputs": [
    {
     "data": {
      "text/plain": [
       "6.5"
      ]
     },
     "execution_count": 64,
     "metadata": {},
     "output_type": "execute_result"
    }
   ],
   "source": [
    "media = (nota1 + nota2) /2\n",
    "media"
   ]
  },
  {
   "cell_type": "code",
   "execution_count": null,
   "metadata": {},
   "outputs": [],
   "source": []
  }
 ],
 "metadata": {
  "kernelspec": {
   "display_name": ".venv",
   "language": "python",
   "name": "python3"
  },
  "language_info": {
   "codemirror_mode": {
    "name": "ipython",
    "version": 3
   },
   "file_extension": ".py",
   "mimetype": "text/x-python",
   "name": "python",
   "nbconvert_exporter": "python",
   "pygments_lexer": "ipython3",
   "version": "3.11.2"
  }
 },
 "nbformat": 4,
 "nbformat_minor": 2
}
