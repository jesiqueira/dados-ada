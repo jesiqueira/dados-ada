{
 "cells": [
  {
   "cell_type": "code",
   "execution_count": 7,
   "id": "77de152d-d9b8-4b75-9f44-735d97b71ab4",
   "metadata": {},
   "outputs": [
    {
     "name": "stdout",
     "output_type": "stream",
     "text": [
      "3\n"
     ]
    }
   ],
   "source": [
    "a = 11\n",
    "b = 4\n",
    "print(a % b)"
   ]
  },
  {
   "cell_type": "markdown",
   "id": "a4005548-d4de-4235-b4c4-d25e2315f251",
   "metadata": {},
   "source": [
    "print((3 + 6*2)/5)"
   ]
  },
  {
   "cell_type": "markdown",
   "id": "8e9a3f87-1de8-4403-9934-23da27602d3f",
   "metadata": {},
   "source": [
    "# Operação lógica, condicinais e while\n",
    "\n",
    " ## = atribuição\n",
    " ## == igualdade\n",
    " ## >= maior ou igual\n",
    " ## <= menor ou igual\n",
    " ## != diferente\n",
    " ## or ou\n",
    " ## and e\n",
    " ## True\n",
    " ## False"
   ]
  },
  {
   "cell_type": "code",
   "execution_count": null,
   "id": "e03370ed-d330-4233-aa81-6ae3ab2bfd16",
   "metadata": {},
   "outputs": [],
   "source": [
    " "
   ]
  }
 ],
 "metadata": {
  "kernelspec": {
   "display_name": "Python 3 (ipykernel)",
   "language": "python",
   "name": "python3"
  },
  "language_info": {
   "codemirror_mode": {
    "name": "ipython",
    "version": 3
   },
   "file_extension": ".py",
   "mimetype": "text/x-python",
   "name": "python",
   "nbconvert_exporter": "python",
   "pygments_lexer": "ipython3",
   "version": "3.12.8"
  }
 },
 "nbformat": 4,
 "nbformat_minor": 5
}
